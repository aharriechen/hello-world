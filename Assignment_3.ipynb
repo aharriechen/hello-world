{
  "nbformat": 4,
  "nbformat_minor": 0,
  "metadata": {
    "colab": {
      "name": "Assignment 3.ipynb",
      "provenance": [],
      "include_colab_link": true
    },
    "kernelspec": {
      "name": "python3",
      "display_name": "Python 3"
    }
  },
  "cells": [
    {
      "cell_type": "markdown",
      "metadata": {
        "id": "view-in-github",
        "colab_type": "text"
      },
      "source": [
        "<a href=\"https://colab.research.google.com/github/aharriechen/hello-world/blob/master/Assignment_3.ipynb\" target=\"_parent\"><img src=\"https://colab.research.google.com/assets/colab-badge.svg\" alt=\"Open In Colab\"/></a>"
      ]
    },
    {
      "cell_type": "markdown",
      "metadata": {
        "id": "s8yIVwc_KVpi",
        "colab_type": "text"
      },
      "source": [
        "# Assignment 3: Take Home Exam\n",
        "\n",
        " Machine Learning Spring 2019\n",
        " \n",
        " Yixuan Chen 13059276"
      ]
    },
    {
      "cell_type": "markdown",
      "metadata": {
        "id": "Bkryl9IiKi2N",
        "colab_type": "text"
      },
      "source": [
        "# Question"
      ]
    },
    {
      "cell_type": "markdown",
      "metadata": {
        "id": "iEnefBFaL3ds",
        "colab_type": "text"
      },
      "source": [
        "AI quantitative models are often used to analyze data when investment companies or asset management companies make investment recommendations or investment decisions. Then the following problems will be encountered, how to verify the accuracy of the model results. Whether the data source of the model is reliable. The ethical and social consequences of this model."
      ]
    },
    {
      "cell_type": "markdown",
      "metadata": {
        "id": "6DYVC7h7KpLN",
        "colab_type": "text"
      },
      "source": [
        "# Introduction"
      ]
    },
    {
      "cell_type": "markdown",
      "metadata": {
        "id": "e6urXebhThkn",
        "colab_type": "text"
      },
      "source": [
        "The application of AI quantitative investment in the financial industry is a general trend. It uses computer technology to select a variety of \"high probability\" events that can bring excess returns from the huge historical data to develop strategies, so as to avoid making irrational investment decisions when the market is extremely enthusiastic or pessimistic. For example, it is popular for investment firms to recommend clients buy gold and its derivatives to protect the value of their assets during the global economic downturn. Many large investment institutions choose to buy gold futures and spot gold. It is well known that the price of a commodity fluctuates around its value. Therefore, the purchase and sale price selection of goods is very important. The difference in the middle is the profit that people make. Because of the large amount of trading, the use of human labor to operate will cause loss of profits. Large international institutions use AI quantity system order to trade to avoid investment institutions making irrational investment decisions in the case of extreme emotions. So how to build an effective AI quantitative system framework in the field of gold investment is very important. This paper will discuss the validation of the data analysis model and its ethical consequences."
      ]
    },
    {
      "cell_type": "markdown",
      "metadata": {
        "id": "u5ZTyhUaLNkO",
        "colab_type": "text"
      },
      "source": [
        "# Solving the problem"
      ]
    },
    {
      "cell_type": "markdown",
      "metadata": {
        "id": "I7855LvChzse",
        "colab_type": "text"
      },
      "source": [
        "In the 1980s a team of quantitative analysts at Morgan Stanley used quantitative models of statistical arbitrage. The model integrates the knowledge of financial pricing theory, statistical decision-making, pattern recognition, time series analysis, econometrics and modern computing methods, and is an interdisciplinary comprehensive investment technology. Since the development of this model, its statistical carry trade strategy has been widely used by large hedge fund companies, investment banks and other institutional investors in the gold futures and spot markets.\n",
        "\n",
        "A study conducted by the university of international business and economics (uibe) found that a practical time-selective quantitative trading system is established by using MATLAB programming and it uses five-minute high-frequency trading data from the Shanghai gold 1606 futures contract. First, it studied the four single-index strategies of MA, MACD, KDJ and RSI in the trend tracking strategy, and then conducted the combination analysis of the four single-index strategies, finally, the return rate after combination was further improved.\n",
        "\n",
        "Even though many professionals have studied the AI quantitative investment decisions of gold, there is still no solution to ensure the stable return of the portfolio. There is no evidence that the investment income generated by the AI quantitative model always exceeds the loss."
      ]
    },
    {
      "cell_type": "markdown",
      "metadata": {
        "id": "GAdzu6PyLUA0",
        "colab_type": "text"
      },
      "source": [
        "# Approaches using data analytics"
      ]
    },
    {
      "cell_type": "markdown",
      "metadata": {
        "id": "HrH12X-qweaQ",
        "colab_type": "text"
      },
      "source": [
        "This report will discuss a new approach to data analysis and prediction, the event-driven strategy model.\n",
        "\n",
        "Its definition: when a new event is pushed to the program, the program immediately calls the handler corresponding to the event to do the relevant operation. For example, to develop a stock index strategy, the trading program listens to TICK data of stock index. When new data is received, the data processing function immediately updates line K and other technical indicators, and checks whether the placing conditions of the policy are met, and executes the placing if the conditions are met.\n",
        "\n",
        "![替代文字](https://upload.wikimedia.org/wikipedia/commons/c/cb/Event_driven_programming_Simply_Explained.jpg)"
      ]
    },
    {
      "cell_type": "markdown",
      "metadata": {
        "id": "RYK1SanZCSnN",
        "colab_type": "text"
      },
      "source": [
        "**AI quantitative trading system architecture**: the whole architecture is divided into three parts, application, server and exchange. The core is a complex event processing engine. the market data is input into the event processing engine, and the engine issues the trading to the exchange.\n",
        "\n",
        "\n"
      ]
    },
    {
      "cell_type": "markdown",
      "metadata": {
        "id": "URmArhigzxhC",
        "colab_type": "text"
      },
      "source": [
        "\n",
        "\n",
        "\n",
        "Event drivers mainly contain the following elements and operation functions:\n",
        "\n",
        "\n",
        "\n",
        "The element\n",
        "\n",
        "1. The event source\n",
        "\n",
        "2. Event listener\n",
        "\n",
        "3. Event object\n",
        "\n",
        "\n",
        "\n",
        "Operation function\n",
        "\n",
        "4. Monitor action\n",
        "\n",
        "5. Send events\n",
        "\n",
        "6. Call the listener response function\n",
        "\n",
        "\n",
        "This article will mention the variable that affects the gold price, reduction of interest. When the bank reduce the interest rates, the return of saving funds in the bank will decrease, so the reduction of interest will lead to the outflow of funds from the bank, and the deposit will be changed into investment or consumption. As a result, the liquidity of funds will increase. For example, if the federal reserve announces to reduce interest rates, it means that the dollar will depreciate. As the dollar depreciates, investors will reduce their investment in the dollar and increase their investment in gold. An increase in the number and amount of money invested in gold will lead to a rise in the price of gold.\n",
        "\n",
        "Another data method uses technical analysis methods such as morphology to capture market signals, especially to track the price trend of futures commodities. It is known that in the market, buyers and sellers are playing a game of power all the time. The chart is a record of the results of this game. With the emergence of these classic patterns again and again, we can use the experience of learning patterns to simulate the future trend. This is morphological analysis. In fact, many hedge funds use graphic recognition to follow market trends. Funds such as man's AHL fund often use complex computer models built by teams of scientists to try to catch trends and other patterns. However, the limitation of this pattern is that the factors considered in analyzing the future situation through historical performance are not comprehensive enough, which often makes the test results differ greatly from the real results. As a result, many funds are gradually cutting back on the use of trend-following models.\n",
        "\n",
        "These two methods are used to analyze the different aspects of gold price changes. They provide different information about the solution to the problem. Although the analysis methods are different, the methods they provide can be used in combination. So people can find a more effective way to predict the price of gold."
      ]
    },
    {
      "cell_type": "markdown",
      "metadata": {
        "id": "OyCUN-amLY8E",
        "colab_type": "text"
      },
      "source": [
        "\n",
        "# Approaches Validation"
      ]
    },
    {
      "cell_type": "markdown",
      "metadata": {
        "id": "V0cIC0ex3rpl",
        "colab_type": "text"
      },
      "source": [
        "Through the above two data analysis methods, we will get enough data to predict the trend of gold price. First, we should first call the federal reserve reduction of interest time and reduction of interest rate, determine the relationship between wong and reduction of interest policy. Second, compare the rise and fall in gold prices seven days after the rate cut. Third, after using the event-driven model, the fitting of the rise and fall and the real historical trend of gold price analysis and comparison. Fourthly, the morphological tracking model is used to further filter data and judge trading opportunities. Fifthly, it compares with the return rate of gold AI quantitative decision in the market."
      ]
    },
    {
      "cell_type": "markdown",
      "metadata": {
        "id": "ziK_Pm7ULcbO",
        "colab_type": "text"
      },
      "source": [
        "\n",
        "# Ethical and Social Consequence"
      ]
    },
    {
      "cell_type": "markdown",
      "metadata": {
        "id": "fq98_bqXC5Sm",
        "colab_type": "text"
      },
      "source": [
        "Forecasting the trend of gold price with AI quantitative model is very complicated. It also creates moral and social problems. This technological development has led to changes in the way societies are organized and managed. The first is the replacement of manpower. AI replacing humans will lead to layoffs. This is the inevitable problem. Second, how our data were obtained. The reliability of the obtained data still needs to be verified. Third, what if the model is used for malicious arbitrage? Fourth, whether the model should be open source and whether it affects other confidential models in the business. These are unknown."
      ]
    },
    {
      "cell_type": "markdown",
      "metadata": {
        "id": "MspkefQmG8ZG",
        "colab_type": "text"
      },
      "source": [
        "How do you sell these kinds of models to clients and how do you convince clients to accept this new product are also problems people have to face."
      ]
    },
    {
      "cell_type": "markdown",
      "metadata": {
        "id": "WFC4szqiLfmU",
        "colab_type": "text"
      },
      "source": [
        "# Conclusion"
      ]
    },
    {
      "cell_type": "markdown",
      "metadata": {
        "id": "tz_W5uhOIvtA",
        "colab_type": "text"
      },
      "source": [
        "\n",
        "Using AI quantitative models to predict gold price movements is a very interesting topic. For data analysis professionals, this is still a complex issue. This issue has been discussed extensively in the past few years. People have done a lot of research and found a number of factors that may have an impact on this issue. These research protocols offer different methods to achieve a more accurate result by combining the collected data."
      ]
    },
    {
      "cell_type": "markdown",
      "metadata": {
        "id": "Xe6Q0Ir7LjO8",
        "colab_type": "text"
      },
      "source": [
        "# Reference"
      ]
    },
    {
      "cell_type": "markdown",
      "metadata": {
        "id": "LbrZH3vQJS70",
        "colab_type": "text"
      },
      "source": [
        "http://www.p5w.net/fund/gsdt/201904/t20190415_2280671.htm\n",
        "\n",
        "Liu dong sheng, *Research on Investment Strategy of Quantitative Trading in Gold Futures*, 2016\n",
        "\n",
        "https://bigquant.com/docs/develop/backtest/event-driven.html\n",
        "\n",
        "\n",
        "https://blog.csdn.net/qtlyx/article/details/84702767\n",
        "\n",
        "\n",
        "https://blog.csdn.net/weixin_30732487/article/details/95920096\n",
        "\n",
        "\n",
        "Nesvizhskii, A.I., Vitek, O. & Aebersold, R. Nat. Methods 4, 787–797 (2007).\n",
        "\n",
        "\n",
        "\n"
      ]
    },
    {
      "cell_type": "markdown",
      "metadata": {
        "id": "Ijj4FyVtKtFE",
        "colab_type": "text"
      },
      "source": [
        "# Github link"
      ]
    },
    {
      "cell_type": "markdown",
      "metadata": {
        "id": "-pgI__OsKxC3",
        "colab_type": "text"
      },
      "source": [
        ""
      ]
    },
    {
      "cell_type": "markdown",
      "metadata": {
        "id": "AJeZzxW0Kx75",
        "colab_type": "text"
      },
      "source": [
        "# GANTT \n",
        "<a href=\"https://sm.ms/image/sxcFaSW7ngBq9tE\" target=\"_blank\"><img src=\"https://i.loli.net/2019/10/09/sxcFaSW7ngBq9tE.jpg\" ></a>)"
      ]
    },
    {
      "cell_type": "markdown",
      "metadata": {
        "id": "Ro1kDhGOVCDW",
        "colab_type": "text"
      },
      "source": [
        "# Budget\n",
        "\n",
        "<a href=\"https://sm.ms/image/fQlUMXGnPdqK8us\" target=\"_blank\"><img src=\"https://i.loli.net/2019/10/09/fQlUMXGnPdqK8us.jpg\" ></a>"
      ]
    }
  ]
}